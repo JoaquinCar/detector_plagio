{
 "cells": [
  {
   "cell_type": "markdown",
   "id": "a47d7a34",
   "metadata": {},
   "source": [
    "Limpieza de datos y generacion de n-gramas"
   ]
  },
  {
   "cell_type": "code",
   "execution_count": null,
   "id": "87bc7975",
   "metadata": {},
   "outputs": [],
   "source": []
  }
 ],
 "metadata": {
  "kernelspec": {
   "display_name": "Python 3",
   "language": "python",
   "name": "python3"
  },
  "language_info": {
   "codemirror_mode": {
    "name": "ipython",
    "version": 3
   },
   "file_extension": ".py",
   "mimetype": "text/x-python",
   "name": "python",
   "nbconvert_exporter": "python",
   "pygments_lexer": "ipython3",
   "version": "3.11.9"
  }
 },
 "nbformat": 4,
 "nbformat_minor": 5
}
